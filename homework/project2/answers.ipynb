{
 "cells": [
  {
   "cell_type": "markdown",
   "metadata": {},
   "source": [
    "## stage1\n",
    "\n",
    "### 任务二\n",
    "\n",
    "#### 1.维度顺序：不知道什么是维度顺序\n",
    "\n",
    "#### 2. nn.Conv2d() \n",
    "\n",
    "--args\n",
    "\n",
    "- in_channel: 输入的通道数\n",
    "- out_channel: 输出的通道数\n",
    "- kernel_size: 卷积核的尺寸\n",
    "- stride: 卷积核滑动的步长\n",
    "- padding: padding的大小\n",
    "\n",
    "#### 3. nn.Linear()\n",
    "\n",
    "含义 对数据进行线性变换y = x*A^T + b, b是可以学习的偏置\n",
    "\n",
    "--args\n",
    "\n",
    "- in_features: 输入数据的特征数（heigt * width * channel）\n",
    "- out_features: 输出数据的特征数\n",
    "\n",
    "#### 4. nn.PReLU()和nn.ReLU()\n",
    "\n",
    "--区别\n",
    "- PRelude()对负数的处理不是直接置为0，而是乘以一个可学习的系数\n",
    "\n",
    "--能否只定义一个PReLU?\n",
    "- 这个还不知道呢\n",
    "\n",
    "#### 5. nn.AvgPool2d()\n",
    "\n",
    "--参数含义\n",
    "- kernel_size 核的尺寸\n",
    "- stride 步长\n",
    "- padding padding方式\n",
    "- ceil_mode 如果为True的话则向上取整\n",
    "- count_include_pad 是否将zero padding纳入进行均值计算\n",
    "- divisor_override if specified, it will be used as divisor, otherwise attr:kernel_size will be used\n",
    "\n",
    "--其它pooling方法\n",
    "- global pooling\n",
    "- max pooling\n",
    "- min pooling\n",
    "- mid pooling\n",
    "\n",
    "#### 6. view() 的作用\n",
    "\n",
    "- torch 的 tensor操作，对数据进行reshape\n",
    "\n",
    "### 任务五\n",
    "\n",
    "#### 1. print的格式化\n",
    "\n",
    "- 通过调用str对象的format方法实现的\n",
    "\n",
    "#### 2.  optimizer的zero_grad()和step()\n",
    "\n",
    "- zero_grad()是清除已优化的梯度\n",
    "- step() 更新优化器中的参数\n",
    "\n",
    "#### 3. model.eval()产生的效果\n",
    "\n",
    "开启evaluation模式，某些模块将使用不同的计算方式，如DropOut层\n",
    "\n",
    "#### 4. model.state_dict()的目的是\n",
    "\n",
    "获取模型的当前的参数和persistent buffer（不清楚这个是什么）\n",
    "\n",
    "#### 5. 何时系统自动进行bp\n",
    "\n",
    "在经过一个batch计算之后\n",
    "\n",
    "#### 6. 如果自己的层需要bp，如何实现？如何调用？"
   ]
  },
  {
   "cell_type": "code",
   "execution_count": null,
   "metadata": {},
   "outputs": [],
   "source": []
  },
  {
   "cell_type": "code",
   "execution_count": 5,
   "metadata": {},
   "outputs": [],
   "source": [
    "import torch.nn as nn\n",
    "import torch"
   ]
  },
  {
   "cell_type": "code",
   "execution_count": 3,
   "metadata": {},
   "outputs": [],
   "source": [
    "ip = nn.Linear(10, 5)"
   ]
  },
  {
   "cell_type": "code",
   "execution_count": 11,
   "metadata": {},
   "outputs": [
    {
     "data": {
      "text/plain": [
       "tensor([[1, 2],\n",
       "        [3, 4],\n",
       "        [5, 6]])"
      ]
     },
     "execution_count": 11,
     "metadata": {},
     "output_type": "execute_result"
    }
   ],
   "source": [
    "torch.tensor([1,2, 3, 4, 5, 6]).view((-1, 2))"
   ]
  },
  {
   "cell_type": "code",
   "execution_count": 13,
   "metadata": {},
   "outputs": [
    {
     "data": {
      "text/plain": [
       "device(type='cpu')"
      ]
     },
     "execution_count": 13,
     "metadata": {},
     "output_type": "execute_result"
    }
   ],
   "source": [
    "torch.device('cpu')"
   ]
  },
  {
   "cell_type": "code",
   "execution_count": 15,
   "metadata": {},
   "outputs": [],
   "source": [
    "t = torch.tensor([1,2,3])"
   ]
  },
  {
   "cell_type": "code",
   "execution_count": 16,
   "metadata": {},
   "outputs": [
    {
     "data": {
      "text/plain": [
       "torch.Size([3])"
      ]
     },
     "execution_count": 16,
     "metadata": {},
     "output_type": "execute_result"
    }
   ],
   "source": [
    "t.shape"
   ]
  },
  {
   "cell_type": "code",
   "execution_count": null,
   "metadata": {},
   "outputs": [],
   "source": []
  }
 ],
 "metadata": {
  "kernelspec": {
   "display_name": "Python 3",
   "language": "python",
   "name": "python3"
  },
  "language_info": {
   "codemirror_mode": {
    "name": "ipython",
    "version": 3
   },
   "file_extension": ".py",
   "mimetype": "text/x-python",
   "name": "python",
   "nbconvert_exporter": "python",
   "pygments_lexer": "ipython3",
   "version": "3.7.4"
  }
 },
 "nbformat": 4,
 "nbformat_minor": 4
}
