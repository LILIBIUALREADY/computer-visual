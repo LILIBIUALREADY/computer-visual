{
 "cells": [
  {
   "cell_type": "code",
   "execution_count": 1,
   "metadata": {},
   "outputs": [],
   "source": [
    "import numpy as np\n",
    "import random\n",
    "import time\n",
    "import matplotlib.pyplot as plt\n",
    "from IPython import display\n",
    "\n",
    "%matplotlib inline"
   ]
  },
  {
   "cell_type": "markdown",
   "metadata": {},
   "source": [
    "## 1. Linear Regression"
   ]
  },
  {
   "cell_type": "markdown",
   "metadata": {},
   "source": [
    "### 1.1 Generate sample data"
   ]
  },
  {
   "cell_type": "code",
   "execution_count": 2,
   "metadata": {},
   "outputs": [],
   "source": [
    "data_x = np.linspace(1.0, 10.0, 100)[:, np.newaxis]\n",
    "data_y = np.sin(data_x) + 0.1 * np.power(data_x, 2) + 0.5 * np.random.randn(100, 1)\n",
    "data_x /= np.max(data_x)"
   ]
  },
  {
   "cell_type": "code",
   "execution_count": 3,
   "metadata": {},
   "outputs": [],
   "source": [
    "data_x = np.hstack((np.ones_like(data_x), data_x))"
   ]
  },
  {
   "cell_type": "code",
   "execution_count": 4,
   "metadata": {},
   "outputs": [],
   "source": [
    "def get_gradient(w, x, y):\n",
    "    y_estimate = x.dot(w).flatten()\n",
    "    error = (y.flatten() - y_estimate)\n",
    "    mse = (1.0/len(x))*np.sum(np.power(error, 2))\n",
    "    gradient = -(1.0/len(x)) * error.dot(x)\n",
    "    return gradient, mse"
   ]
  },
  {
   "cell_type": "code",
   "execution_count": 5,
   "metadata": {},
   "outputs": [],
   "source": [
    "def train(x, gt_y, batch_portion, lr, max_iter):\n",
    "    \n",
    "    theta = np.random.randn(2)\n",
    "    \n",
    "    for i in range(max_iter):\n",
    "    \n",
    "        order = np.random.permutation(len(data_x))\n",
    "        train_x = x[order[:batch_portion]]\n",
    "        train_y = gt_y[order[:batch_portion]]\n",
    "        gradient, error = get_gradient(theta, train_x, train_y)\n",
    "        new_theta = theta - lr * gradient\n",
    "\n",
    "        # Print error every 100 iterations\n",
    "        if i % 100 == 0:\n",
    "            print(\"Iteration: %d - Error: %.4f\" %(i, error))\n",
    "\n",
    "        theta = new_theta\n",
    "        \n",
    "    print(\"Theta is \",theta)\n",
    "    print(\"Loss is \", error)\n",
    "        \n",
    "    return theta"
   ]
  },
  {
   "cell_type": "code",
   "execution_count": 6,
   "metadata": {},
   "outputs": [
    {
     "name": "stdout",
     "output_type": "stream",
     "text": [
      "Iteration: 0 - Error: 29.0818\n",
      "Iteration: 100 - Error: 1.7223\n",
      "Iteration: 200 - Error: 1.7780\n",
      "Iteration: 300 - Error: 1.6233\n",
      "Theta is  [-2.032955   10.84419468]\n",
      "Loss is  1.6540760123529195\n"
     ]
    }
   ],
   "source": [
    "theta = train(data_x, data_y, 80, 0.5, 400)"
   ]
  },
  {
   "cell_type": "code",
   "execution_count": 7,
   "metadata": {},
   "outputs": [
    {
     "data": {
      "text/plain": [
       "<matplotlib.legend.Legend at 0x7ff2d83b24a8>"
      ]
     },
     "execution_count": 7,
     "metadata": {},
     "output_type": "execute_result"
    },
    {
     "data": {
      "image/png": "[encoded data removed]",
      "text/plain": [
       "<Figure size 432x288 with 1 Axes>"
      ]
     },
     "metadata": {
      "needs_background": "light"
     },
     "output_type": "display_data"
    }
   ],
   "source": [
    "plt.scatter(data_x[:,1], data_y, c='b', label='Sample data')\n",
    "plt.plot(data_x[:,1], data_x.dot(theta), c='r', label='Model')\n",
    "plt.grid()\n",
    "plt.legend(loc='best')\n",
    "plt.xlabel('X')\n",
    "plt.ylabel('Y')\n",
    "plt.legend()"
   ]
  },
  {
   "cell_type": "markdown",
   "metadata": {},
   "source": [
    "## 2. Logistic Regression"
   ]
  },
  {
   "cell_type": "code",
   "execution_count": 9,
   "metadata": {},
   "outputs": [],
   "source": [
    "from sklearn.datasets import load_iris"
   ]
  },
  {
   "cell_type": "code",
   "execution_count": 10,
   "metadata": {},
   "outputs": [],
   "source": [
    "iris = load_iris()"
   ]
  },
  {
   "cell_type": "code",
   "execution_count": 11,
   "metadata": {},
   "outputs": [],
   "source": [
    "X = iris.data[:, :2]\n",
    "y = (iris.target != 0) * 1"
   ]
  },
  {
   "cell_type": "code",
   "execution_count": 12,
   "metadata": {},
   "outputs": [],
   "source": [
    "iris_x = iris.data[:, :2]\n",
    "iris_y = (iris.target != 0) * 1"
   ]
  },
  {
   "cell_type": "code",
   "execution_count": 13,
   "metadata": {},
   "outputs": [
    {
     "data": {
      "text/plain": [
       "<matplotlib.legend.Legend at 0x7ff2ca02bba8>"
      ]
     },
     "execution_count": 13,
     "metadata": {},
     "output_type": "execute_result"
    },
    {
     "data": {
      "image/png": "[encoded data removed]",
      "text/plain": [
       "<Figure size 720x432 with 1 Axes>"
      ]
     },
     "metadata": {
      "needs_background": "light"
     },
     "output_type": "display_data"
    }
   ],
   "source": [
    "plt.figure(figsize=(10, 6))\n",
    "plt.scatter(iris_x[iris_y == 0][:, 0], iris_x[iris_y == 0][:, 1], color='b', label='0')\n",
    "plt.scatter(iris_x[iris_y == 1][:, 0], iris_x[iris_y == 1][:, 1], color='r', label='1')\n",
    "plt.legend()"
   ]
  },
  {
   "cell_type": "code",
   "execution_count": 21,
   "metadata": {},
   "outputs": [],
   "source": [
    "class LogisticRegression:\n",
    "    def __init__(self, lr=0.01, num_iter=100000, fit_intercept=True, verbose=False):\n",
    "        self.lr = lr\n",
    "        self.num_iter = num_iter\n",
    "        self.fit_intercept = fit_intercept\n",
    "        self.verbose = verbose\n",
    "    \n",
    "    def __add_intercept(self, X):\n",
    "        intercept = np.ones((X.shape[0], 1))\n",
    "        return np.concatenate((intercept, X), axis=1)\n",
    "    \n",
    "    def __sigmoid(self, z):\n",
    "        return 1 / (1 + np.exp(-z))\n",
    "    def __loss(self, h, y):\n",
    "        return (-y * np.log(h) - (1 - y) * np.log(1 - h)).mean()\n",
    "    \n",
    "    def fit(self, X, y):\n",
    "        if self.fit_intercept:\n",
    "            X = self.__add_intercept(X)\n",
    "        \n",
    "        # weights initialization\n",
    "        self.theta = np.zeros(X.shape[1])\n",
    "        \n",
    "        for i in range(self.num_iter):\n",
    "            z = np.dot(X, self.theta)\n",
    "            h = self.__sigmoid(z)\n",
    "            gradient = np.dot(X.T, (h - y)) / y.size\n",
    "            self.theta -= self.lr * gradient\n",
    "            \n",
    "            z = np.dot(X, self.theta)\n",
    "            h = self.__sigmoid(z)\n",
    "            loss = self.__loss(h, y)\n",
    "                \n",
    "            if(self.verbose ==True and i % 10000 == 0):\n",
    "                print(f'loss: {loss} , theta: {self.theta},index: {h[:5]}\\t')\n",
    "    \n",
    "    def predict_prob(self, X):\n",
    "        if self.fit_intercept:\n",
    "            X = self.__add_intercept(X)\n",
    "    \n",
    "        return self.__sigmoid(np.dot(X, self.theta))\n",
    "    \n",
    "    def predict(self, X):\n",
    "        return self.predict_prob(X).round()"
   ]
  },
  {
   "cell_type": "code",
   "execution_count": 22,
   "metadata": {},
   "outputs": [
    {
     "name": "stdout",
     "output_type": "stream",
     "text": [
      "loss: 0.6106904453410645 , theta: [0.01666667 0.1253     0.0386    ],index: [0.68800236 0.67840177 0.67460701 0.67099896 0.68613828]\t\n",
      "loss: 0.03432718644226483 , theta: [-2.99738435  5.85587137 -9.21022941],index: [0.00464068 0.12627508 0.00705091 0.00983341 0.00103238]\t\n",
      "loss: 0.02878665213455816 , theta: [ -4.77212978   6.82750621 -10.35339731],index: [0.00204821 0.0849014  0.0029774  0.00423076 0.00036808]\t\n",
      "loss: 0.025718548517683616 , theta: [ -6.34379979   7.39927242 -10.85734899],index: [0.0013474  0.06541128 0.0018134  0.00256065 0.00021733]\t\n",
      "loss: 0.02340842758463659 , theta: [ -7.78270414   7.80929507 -11.11678549],index: [0.00104359 0.05378299 0.00128883 0.00179316 0.00015739]\t\n",
      "loss: 0.021507024522720526 , theta: [ -9.11350662   8.13684725 -11.26326411],index: [0.00087798 0.04596819 0.00099401 0.00135835 0.00012626]\t\n",
      "loss: 0.019892368181604822 , theta: [-10.34893751   8.41769603 -11.35602244],index: [0.00077276 0.04029903 0.00080406 0.00107839 0.00010705]\t\n",
      "loss: 0.0185031664409479 , theta: [-11.49785304   8.67027543 -11.42514055],index: [6.97409402e-04 3.59530839e-02 6.69701665e-04 8.81924510e-04\n",
      " 9.35443001e-05]\t\n",
      "loss: 0.017299193592041292 , theta: [-12.56779767   8.90468189 -11.48643158],index: [6.38065994e-04 3.24787562e-02 5.68253879e-04 7.35518641e-04\n",
      " 8.30867755e-05]\t\n",
      "loss: 0.016249738703587754 , theta: [-13.56580901   9.12658056 -11.54800636],index: [5.87955957e-04 2.96100744e-02 4.88100650e-04 6.21745282e-04\n",
      " 7.44186854e-05]\t\n",
      "loss: 0.015329838490314577 , theta: [-14.49858494   9.33916891 -11.61365884],index: [5.43667201e-04 2.71822173e-02 4.22795375e-04 5.30717219e-04\n",
      " 6.69222444e-05]\t\n",
      "loss: 0.014518833591009722 , theta: [-15.3724409    9.54425116 -11.68477368],index: [5.03477545e-04 2.50886441e-02 3.68487135e-04 4.56400221e-04\n",
      " 6.02847968e-05]\t\n",
      "loss: 0.013799605037762784 , theta: [-16.19322985   9.74285068 -11.76144161],index: [4.66522801e-04 2.32577052e-02 3.22706416e-04 3.94859456e-04\n",
      " 5.43415950e-05]\t\n",
      "loss: 0.013158006956155629 , theta: [-16.96628664   9.93556261 -11.84311272],index: [4.32363316e-04 2.16392850e-02 2.83758543e-04 3.43373595e-04\n",
      " 4.89981318e-05]\t\n",
      "loss: 0.012582374964505384 , theta: [-17.69640924  10.12275552 -11.92897097],index: [4.00756989e-04 2.01969474e-02 2.50408782e-04 2.99965266e-04\n",
      " 4.41917990e-05]\t\n",
      "loss: 0.012063092454345654 , theta: [-18.38787114  10.30468422 -12.01814013],index: [3.71543844e-04 1.89032197e-02 2.21713299e-04 2.63140802e-04\n",
      " 3.98736690e-05]\t\n",
      "loss: 0.011592216936374905 , theta: [-19.04445421  10.48155083 -12.10978936],index: [3.44590989e-04 1.77367042e-02 1.96924884e-04 2.31738919e-04\n",
      " 3.60004991e-05]\t\n",
      "loss: 0.01116316678090668 , theta: [-19.66949267  10.65353621 -12.20318078],index: [3.19769367e-04 1.66802726e-02 1.75437723e-04 2.04837950e-04\n",
      " 3.25317195e-05]\t\n",
      "loss: 0.010770464048285664 , theta: [-20.26592095  10.82081479 -12.29768471],index: [2.96946373e-04 1.57199074e-02 1.56752995e-04 1.81695704e-04\n",
      " 2.94286642e-05]\t\n",
      "loss: 0.01040952627650975 , theta: [-20.83632123  10.98356061 -12.39277814],index: [2.75985663e-04 1.48439356e-02 1.40455916e-04 1.61708313e-04\n",
      " 2.66546712e-05]\t\n",
      "loss: 0.01007649925054516 , theta: [-21.38296784  11.14194871 -12.48803508],index: [2.56749673e-04 1.40425056e-02 1.26199399e-04 1.44380712e-04\n",
      " 2.41754052e-05]\t\n",
      "loss: 0.009768123172684362 , theta: [-21.90786755  11.29615451 -12.58311394],index: [2.39102682e-04 1.33072162e-02 1.13691757e-04 1.29304648e-04\n",
      " 2.19591392e-05]\t\n",
      "loss: 0.009481625616205877 , theta: [-22.41279514  11.44635234 -12.67774449],index: [2.22913479e-04 1.26308452e-02 1.02687086e-04 1.16141831e-04\n",
      " 1.99769076e-05]\t\n",
      "loss: 0.009214635760287644 , theta: [-22.89932447  11.59271387 -12.77171573],index: [2.08057332e-04 1.20071434e-02 9.29775388e-05 1.04610769e-04\n",
      " 1.82025300e-05]\t\n",
      "loss: 0.008965115461932606 , theta: [-23.36885535  11.73540667 -12.86486518],index: [1.94417258e-04 1.14306754e-02 8.43870197e-05 9.44763327e-05\n",
      " 1.66125312e-05]\t\n",
      "loss: 0.008731303635409655 , theta: [-23.82263658  11.87459313 -12.95706975],index: [1.81884691e-04 1.08966924e-02 7.67659918e-05 8.55414123e-05\n",
      " 1.51859909e-05]\t\n",
      "loss: 0.008511671162408274 , theta: [-24.26178576  12.01042962 -13.04823812],index: [1.70359694e-04 1.04010294e-02 6.99871760e-05 7.76401913e-05\n",
      " 1.39043501e-05]\t\n",
      "loss: 0.008304884158053572 , theta: [-24.68730618  12.14306593 -13.13830443],index: [1.59750841e-04 9.94002084e-03 6.39419815e-05 7.06327057e-05\n",
      " 1.27511993e-05]\t\n",
      "loss: 0.008109773891466268 , theta: [-25.10010129  12.272645   -13.22722314],index: [1.49974877e-04 9.51043034e-03 5.85375355e-05 6.44004186e-05\n",
      " 1.17120620e-05]\t\n",
      "loss: 0.007925312028698209 , theta: [-25.50098711  12.39930278 -13.31496488],index: [1.40956251e-04 9.10939229e-03 5.36942108e-05 5.88426099e-05\n",
      " 1.07741850e-05]\t\n"
     ]
    }
   ],
   "source": [
    "model = LogisticRegression(lr=0.1, num_iter=300000, verbose=True)\n",
    "model.fit(X, y)"
   ]
  },
  {
   "cell_type": "code",
   "execution_count": 18,
   "metadata": {},
   "outputs": [
    {
     "data": {
      "image/png": "[encoded data removed]",
      "text/plain": [
       "<Figure size 720x432 with 1 Axes>"
      ]
     },
     "metadata": {
      "needs_background": "light"
     },
     "output_type": "display_data"
    }
   ],
   "source": [
    "plt.figure(figsize=(10, 6))\n",
    "plt.scatter(X[y == 0][:, 0], X[y == 0][:, 1], color='b', label='0')\n",
    "plt.scatter(X[y == 1][:, 0], X[y == 1][:, 1], color='r', label='1')\n",
    "plt.legend()\n",
    "x1_min, x1_max = X[:,0].min(), X[:,0].max(),\n",
    "x2_min, x2_max = X[:,1].min(), X[:,1].max(),\n",
    "xx1, xx2 = np.meshgrid(np.linspace(x1_min, x1_max), np.linspace(x2_min, x2_max))\n",
    "grid = np.c_[xx1.ravel(), xx2.ravel()]\n",
    "probs = model.predict_prob(grid).reshape(xx1.shape)\n",
    "plt.contour(xx1, xx2, probs, [0.5], linewidths=1, colors='black');"
   ]
  },
  {
   "cell_type": "code",
   "execution_count": null,
   "metadata": {},
   "outputs": [],
   "source": []
  }
 ],
 "metadata": {
  "kernelspec": {
   "display_name": "Python 3",
   "language": "python",
   "name": "python3"
  },
  "language_info": {
   "codemirror_mode": {
    "name": "ipython",
    "version": 3
   },
   "file_extension": ".py",
   "mimetype": "text/x-python",
   "name": "python",
   "nbconvert_exporter": "python",
   "pygments_lexer": "ipython3",
   "version": "3.7.3"
  }
 },
 "nbformat": 4,
 "nbformat_minor": 4
}
