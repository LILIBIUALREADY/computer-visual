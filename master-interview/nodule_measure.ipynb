{
 "cells": [
  {
   "cell_type": "code",
   "execution_count": 1,
   "metadata": {},
   "outputs": [],
   "source": [
    "import numpy as np\n",
    "import matplotlib.pyplot as plt\n",
    "import tools\n",
    "import cv2 as cv"
   ]
  },
  {
   "cell_type": "code",
   "execution_count": 2,
   "metadata": {},
   "outputs": [
    {
     "name": "stdout",
     "output_type": "stream",
     "text": [
      "min: 0.09666666666666668, max: 1.0, shape: (64, 64, 16)\n"
     ]
    }
   ],
   "source": [
    "nod = np.load('nod.npy')\n",
    "min, max = nod.min(), nod.max()\n",
    "shape = nod.shape\n",
    "# 容易知道，像素强度已经进行了归一化\n",
    "print(f'min: {min}, max: {max}, shape: {shape}')"
   ]
  },
  {
   "cell_type": "code",
   "execution_count": 3,
   "metadata": {},
   "outputs": [],
   "source": [
    "center = np.array(nod.shape) / 2"
   ]
  },
  {
   "cell_type": "code",
   "execution_count": 4,
   "metadata": {},
   "outputs": [],
   "source": [
    "center = center.astype(np.int8)"
   ]
  },
  {
   "cell_type": "code",
   "execution_count": 5,
   "metadata": {},
   "outputs": [],
   "source": [
    "center_x, center_y, center_z = tuple(center)"
   ]
  },
  {
   "cell_type": "code",
   "execution_count": 6,
   "metadata": {},
   "outputs": [
    {
     "data": {
      "text/plain": [
       "0.8386666666666666"
      ]
     },
     "execution_count": 6,
     "metadata": {},
     "output_type": "execute_result"
    }
   ],
   "source": [
    "nod[center_x, center_y, center_z]"
   ]
  },
  {
   "cell_type": "code",
   "execution_count": 39,
   "metadata": {},
   "outputs": [],
   "source": [
    "nodule = nod.copy()\n",
    "threshold = 0.7\n",
    "nodule[nodule>threshold] = 1\n",
    "nodule[nodule<=threshold] = 0\n",
    "\n",
    "nodule = nodule.astype(np.uint8)\n",
    "# inverse the pixel\n",
    "# nodule[nodule==0] = 2\n",
    "# nodule[nodule==1] = 0\n",
    "# nodule[nodule==2] = 1"
   ]
  },
  {
   "cell_type": "code",
   "execution_count": 31,
   "metadata": {},
   "outputs": [],
   "source": [
    "# test_slice = nodule[:, :, 8]\n",
    "# kernel = np.ones((5, 5), np.uint)\n",
    "# test_slice = cv.morphologyEx(test_slice.astype(np.uint8), cv.MORPH_OPEN, kernel)\n",
    "# 每个方向对每层进行开运算"
   ]
  },
  {
   "cell_type": "code",
   "execution_count": 46,
   "metadata": {},
   "outputs": [],
   "source": [
    "kernel = np.ones((3, 3), np.uint8)\n",
    "# x\n",
    "for x in range(nodule.shape[0]):\n",
    "    nodule[x] = cv.morphologyEx(nodule[x], cv.MORPH_OPEN, kernel)\n",
    "    \n",
    "for y in range(nodule.shape[1]):\n",
    "    nodule[:, x, :] = cv.morphologyEx(nodule[:, x, :], cv.MORPH_OPEN, kernel)\n",
    "\n",
    "for z in range(nodule.shape[2]):\n",
    "    nodule[:, :, z] = cv.morphologyEx(nodule[:, :, z], cv.MORPH_OPEN, kernel)\n",
    "    \n",
    "for x in range(nodule.shape[0]):\n",
    "    nodule[x] = cv.morphologyEx(nodule[x], cv.MORPH_CLOSE, kernel)\n",
    "    \n",
    "for y in range(nodule.shape[1]):\n",
    "    nodule[:, x, :] = cv.morphologyEx(nodule[:, x, :], cv.MORPH_CLOSE, kernel)\n",
    "\n",
    "for z in range(nodule.shape[2]):\n",
    "    nodule[:, :, z] = cv.morphologyEx(nodule[:, :, z], cv.MORPH_CLOSE, kernel)"
   ]
  },
  {
   "cell_type": "code",
   "execution_count": 47,
   "metadata": {},
   "outputs": [],
   "source": [
    "tools.npy2nii(nodule, 'nod.nii')"
   ]
  },
  {
   "cell_type": "code",
   "execution_count": 48,
   "metadata": {},
   "outputs": [
    {
     "data": {
      "text/plain": [
       "<matplotlib.image.AxesImage at 0x7f9cf1751710>"
      ]
     },
     "execution_count": 48,
     "metadata": {},
     "output_type": "execute_result"
    },
    {
     "data": {
      "image/png": "[encoded data removed]",
      "text/plain": [
       "<Figure size 432x288 with 1 Axes>"
      ]
     },
     "metadata": {
      "needs_background": "light"
     },
     "output_type": "display_data"
    }
   ],
   "source": [
    "plt.imshow(nodule[:, :, 8], 'gray')"
   ]
  },
  {
   "cell_type": "code",
   "execution_count": 49,
   "metadata": {},
   "outputs": [],
   "source": [
    "import skimage.measure as measure"
   ]
  },
  {
   "cell_type": "code",
   "execution_count": 74,
   "metadata": {},
   "outputs": [
    {
     "data": {
      "text/plain": [
       "array([[18, 29],\n",
       "       [18, 30],\n",
       "       [18, 31],\n",
       "       ...,\n",
       "       [45, 30],\n",
       "       [45, 31],\n",
       "       [45, 32]])"
      ]
     },
     "execution_count": 74,
     "metadata": {},
     "output_type": "execute_result"
    },
    {
     "data": {
      "image/png": "[encoded data removed]",
      "text/plain": [
       "<Figure size 432x288 with 1 Axes>"
      ]
     },
     "metadata": {
      "needs_background": "light"
     },
     "output_type": "display_data"
    }
   ],
   "source": [
    "test_slice = nodule[:, :, 8]\n",
    "label = measure.label(test_slice, connectivity=1)\n",
    "# 找到生长点的类型\n",
    "center_type = label[32, 32]\n",
    "\n",
    "# 将生长点的连通域设置为1\n",
    "label[label!=center_type] = 0\n",
    "label[label==center_type] = 1\n",
    "plt.imshow(label, 'gray')\n",
    "np.argwhere(label == 1)"
   ]
  },
  {
   "cell_type": "code",
   "execution_count": 77,
   "metadata": {},
   "outputs": [
    {
     "ename": "IndexError",
     "evalue": "index 29 is out of bounds for axis 2 with size 16",
     "output_type": "error",
     "traceback": [
      "\u001b[0;31m---------------------------------------------------------------------------\u001b[0m",
      "\u001b[0;31mIndexError\u001b[0m                                Traceback (most recent call last)",
      "\u001b[0;32m<ipython-input-77-f12770a3a005>\u001b[0m in \u001b[0;36m<module>\u001b[0;34m\u001b[0m\n\u001b[1;32m     11\u001b[0m     \u001b[0;31m# 寻找下一层的生长点(必须是结节像素点), 遍历此层相同坐标的点\u001b[0m\u001b[0;34m\u001b[0m\u001b[0;34m\u001b[0m\u001b[0;34m\u001b[0m\u001b[0m\n\u001b[1;32m     12\u001b[0m     \u001b[0;32mfor\u001b[0m \u001b[0mp\u001b[0m \u001b[0;32min\u001b[0m \u001b[0mnp\u001b[0m\u001b[0;34m.\u001b[0m\u001b[0margwhere\u001b[0m\u001b[0;34m(\u001b[0m\u001b[0mlabel\u001b[0m \u001b[0;34m==\u001b[0m \u001b[0;36m1\u001b[0m\u001b[0;34m)\u001b[0m\u001b[0;34m:\u001b[0m\u001b[0;34m\u001b[0m\u001b[0;34m\u001b[0m\u001b[0m\n\u001b[0;32m---> 13\u001b[0;31m         \u001b[0;32mif\u001b[0m \u001b[0mnodule\u001b[0m\u001b[0;34m[\u001b[0m\u001b[0mindex_x\u001b[0m \u001b[0;34m-\u001b[0m \u001b[0;36m1\u001b[0m\u001b[0;34m,\u001b[0m \u001b[0mp\u001b[0m\u001b[0;34m[\u001b[0m\u001b[0;36m0\u001b[0m\u001b[0;34m]\u001b[0m\u001b[0;34m,\u001b[0m \u001b[0mp\u001b[0m\u001b[0;34m[\u001b[0m\u001b[0;36m1\u001b[0m\u001b[0;34m]\u001b[0m\u001b[0;34m]\u001b[0m \u001b[0;34m==\u001b[0m \u001b[0;36m1\u001b[0m\u001b[0;34m:\u001b[0m\u001b[0;34m\u001b[0m\u001b[0;34m\u001b[0m\u001b[0m\n\u001b[0m\u001b[1;32m     14\u001b[0m             \u001b[0mp1\u001b[0m\u001b[0;34m,\u001b[0m \u001b[0mp2\u001b[0m \u001b[0;34m=\u001b[0m \u001b[0mp\u001b[0m\u001b[0;34m[\u001b[0m\u001b[0;36m0\u001b[0m\u001b[0;34m]\u001b[0m\u001b[0;34m,\u001b[0m \u001b[0mp\u001b[0m\u001b[0;34m[\u001b[0m\u001b[0;36m1\u001b[0m\u001b[0;34m]\u001b[0m\u001b[0;34m\u001b[0m\u001b[0;34m\u001b[0m\u001b[0m\n\u001b[1;32m     15\u001b[0m             \u001b[0;32mbreak\u001b[0m\u001b[0;34m\u001b[0m\u001b[0;34m\u001b[0m\u001b[0m\n",
      "\u001b[0;31mIndexError\u001b[0m: index 29 is out of bounds for axis 2 with size 16"
     ]
    }
   ],
   "source": [
    "# 求3D连通域\n",
    "init_slice = nodule[center_x]\n",
    "# 假定初始中心点为结节像素点\n",
    "p1, p2 = center_y, center_z\n",
    "# 中心层到0层\n",
    "for index_x in range(center_x, -1, -1):\n",
    "    label = measure.label(test_slice, connectivity=1)\n",
    "    center_type = nodule[index_x, p1, p2]\n",
    "    label[label==center_type] = 1\n",
    "    label[label!=center_type] = 0\n",
    "    # 寻找下一层的生长点(必须是结节像素点), 遍历此层相同坐标的点\n",
    "    for p in np.argwhere(label == 1):\n",
    "        if nodule[index_x - 1, p[0], p[1]] == 1:\n",
    "            p1, p2 = p[0], p[1]\n",
    "            break\n",
    "    print(index_x, center_x)\n",
    "    \n",
    "# 中心层到最后一层\n",
    "# for index_x in range(center_x, shape[0]):\n",
    "#     print(center_x, index_x)"
   ]
  },
  {
   "cell_type": "markdown",
   "metadata": {},
   "source": [
    "## 解决方案\n",
    "\n",
    "1. 对图像进行二值化（目前是手动填写阈值，可以事先统计一下两个峰值，以此确定阈值）\n",
    "2. 各个方向对每层图像进行开运算，防止结节泄露与外界连通（似乎是人为创造了边界，这里可以考虑进行梯度计算，计算出边缘）\n",
    "3. 各个方向对图像进行闭运算，去除被结节包裹的低强度像素（被误判为正常的像素点）\n",
    "3. 找到中心点最近的高强度像素点（防止中心点没有被闭运算消除），并寻找这个点的连通域\n",
    "4. 计算指标：体积、长轴、短轴、表面体积比\n",
    "\n",
    "注意：分别对各个方向进行开闭运算来代替3D开闭运算是有缺陷的"
   ]
  }
 ],
 "metadata": {
  "kernelspec": {
   "display_name": "Python 3",
   "language": "python",
   "name": "python3"
  },
  "language_info": {
   "codemirror_mode": {
    "name": "ipython",
    "version": 3
   },
   "file_extension": ".py",
   "mimetype": "text/x-python",
   "name": "python",
   "nbconvert_exporter": "python",
   "pygments_lexer": "ipython3",
   "version": "3.7.3"
  }
 },
 "nbformat": 4,
 "nbformat_minor": 4
}
